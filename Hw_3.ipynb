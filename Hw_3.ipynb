{
  "nbformat": 4,
  "nbformat_minor": 0,
  "metadata": {
    "colab": {
      "name": "Hw 3",
      "provenance": [],
      "collapsed_sections": []
    },
    "kernelspec": {
      "name": "python3",
      "display_name": "Python 3"
    },
    "language_info": {
      "name": "python"
    }
  },
  "cells": [
    {
      "cell_type": "code",
      "execution_count": null,
      "metadata": {
        "colab": {
          "base_uri": "https://localhost:8080/"
        },
        "id": "JFvfRRLVRIFO",
        "outputId": "f0601394-9c99-40e0-8d27-bacb758bb2d8"
      },
      "outputs": [
        {
          "output_type": "stream",
          "name": "stdout",
          "text": [
            "the future value is 27470.75588629376\n"
          ]
        }
      ],
      "source": [
        "Principal = 1200\n",
        "rate = .11\n",
        "time = 30\n",
        "\n",
        "Fv = Principal*(1+rate)**time\n",
        "print(\"the future value is\",Fv)"
      ]
    },
    {
      "cell_type": "code",
      "source": [
        "\n",
        "\n",
        "def invest_calc(P,j,t):\n",
        "    n = 12\n",
        "    S=P*(1+j/n)**(n*t)\n",
        "    return S\n",
        " \n",
        "P=float(input(\"Enter initial value: \"))\n",
        "j=float(input(\"Enter the annual interest rate: \"))\n",
        "t = float(input(\"Enter the time: \"))\n",
        "S = invest_calc\n",
        " \n",
        "print(invest_calc(P,j,t), S)"
      ],
      "metadata": {
        "colab": {
          "base_uri": "https://localhost:8080/"
        },
        "id": "xP7fW5ywnx_x",
        "outputId": "81e5a4d0-2419-475d-88e6-af77416f5706"
      },
      "execution_count": 17,
      "outputs": [
        {
          "output_type": "stream",
          "name": "stdout",
          "text": [
            "Enter initial value: 1000\n",
            "Enter the annual interest rate: 3\n",
            "Enter the time: 4\n",
            "44841550.858394146 <function invest_calc at 0x7fa59af0edd0>\n"
          ]
        }
      ]
    },
    {
      "cell_type": "markdown",
      "source": [
        ""
      ],
      "metadata": {
        "id": "1RPNH7lmoThV"
      }
    },
    {
      "cell_type": "markdown",
      "source": [
        "# present value calcualtor "
      ],
      "metadata": {
        "id": "jyUCDkNbkSO1"
      }
    },
    {
      "cell_type": "code",
      "source": [
        "\n",
        "Principal = 100000\n",
        "rate = .11\n",
        "time = 30 \n",
        "\n",
        "Output = Principal/(1+rate)**time\n",
        "print(f\"The present value of your investment is ${Output:,.2f}\")"
      ],
      "metadata": {
        "colab": {
          "base_uri": "https://localhost:8080/"
        },
        "id": "XD_H4BHFkaZ2",
        "outputId": "66d8a09a-8632-49e7-ae80-41f211e21da8"
      },
      "execution_count": null,
      "outputs": [
        {
          "output_type": "stream",
          "name": "stdout",
          "text": [
            "The present value of your investment is $4,368.28\n"
          ]
        }
      ]
    }
  ]
}